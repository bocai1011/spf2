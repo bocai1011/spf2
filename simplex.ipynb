{
 "cells": [
  {
   "cell_type": "code",
   "execution_count": 43,
   "metadata": {
    "collapsed": true
   },
   "outputs": [],
   "source": [
    "import pandas as pd\n",
    "import numpy as np\n",
    "import sys"
   ]
  },
  {
   "cell_type": "code",
   "execution_count": 30,
   "metadata": {
    "collapsed": false
   },
   "outputs": [],
   "source": [
    "df =  pd.read_csv('spoof20150610.csv')"
   ]
  },
  {
   "cell_type": "code",
   "execution_count": 167,
   "metadata": {
    "collapsed": true
   },
   "outputs": [],
   "source": [
    "def process_data(df,sym):\n",
    "    df = df[df['symbol']== sym]\n",
    "    df = df[['acct','date','ordid','time','symbol','mtype','side','limitprice','ordqty','trdprice','trdqty']]\n",
    "    df = df[df['mtype'].isin(['CancelRequest','Filled','PartialFill'])]\n",
    "    df['mtype'] = df['mtype'].replace(['CancelRequest','Filled','PartialFill'],['CANCEL','EXECUTION','EXECUTION'])\n",
    "    df['time'] = pd.to_datetime(df['time'].str[2:])\n",
    "    df['time_diff'] = df['time'].diff()\n",
    "    df['time']=df['time'].map(lambda x:x.time())\n",
    "    T = df['time_diff'].median()\n",
    "    df['time_diff'].iat[0] = T\n",
    "    df['time_diff'] = df['time_diff'].map(lambda x:x.microseconds)\n",
    "    df['cancelled buy'] = df['ordqty']\n",
    "    df['cancelled sell'] = df['ordqty']\n",
    "    df['exec buy'] = df['trdqty']\n",
    "    df['exec sell'] = df['trdqty']\n",
    "    df.loc[(df['mtype']!='CANCEL')|(df['side']!='BY'),'cancelled buy'] = 0.0\n",
    "    df.loc[(df['mtype']!='CANCEL')|(df['side']!='SL'),'cancelled sell'] = 0.0\n",
    "    df.loc[(df['mtype']!='EXECUTION')|(df['side']!='BY'),'exec buy'] = 0.0\n",
    "    df.loc[(df['mtype']!='EXECUTION')|(df['side']!='SL'),'exec sell'] = 0.0\n",
    "    df.sort_values('time')\n",
    "    #df = df[['time','mtype','side','ordqty','trdqty','time_diff','cancelled buy','cancelled sell','exec buy','exec sell']]\n",
    "    df = df[['ordid','time','symbol','mtype','time_diff','cancelled buy','cancelled sell','exec buy','exec sell']]\n",
    "    df.index = range(len(df))\n",
    "    return df"
   ]
  },
  {
   "cell_type": "code",
   "execution_count": 184,
   "metadata": {
    "collapsed": false
   },
   "outputs": [],
   "source": [
    "def calc_feature(data):\n",
    "    decay_factor = 2.0\n",
    "    linger_factor = 100.0\n",
    "    if len(data)<2:\n",
    "        raise ValueError('data too short')\n",
    "    medianT = data['time_diff'].median()\n",
    "    T=medianT*decay_factor\n",
    "    linger = medianT*linger_factor\n",
    "    epsilon = sys.float_info.epsilon\n",
    "    \n",
    "    data['ewav_canc_buy'] = epsilon\n",
    "    data['ewav_canc_sell'] = epsilon\n",
    "\n",
    "    for ii in range(1,len(data)):\n",
    "        coef = np.exp(-data.ix[ii]['time_diff']/T) if data.ix[ii]['time_diff'] <= linger else 0\n",
    "        #import pdb;pdb.set_trace()\n",
    "        data.loc[ii,'ewav_canc_buy'] = data.loc[ii, 'cancelled buy']+data.loc[ii-1, 'ewav_canc_buy']*coef\n",
    "        data.loc[ii,'ewav_canc_sell'] = data.loc[ii, 'cancelled sell']+data.loc[ii-1, 'ewav_canc_sell']*coef\n",
    "    \n",
    "    ff = lambda x: x if x > epsilon else epsilon\n",
    "    data['ewav_canc_buy'] = data['ewav_canc_buy'].map(ff)\n",
    "    data['ewav_canc_sell'] = data['ewav_canc_sell'].map(ff)\n",
    "    \n",
    "    data['ewav_buy/sell'] = data['ewav_canc_buy']/data['ewav_canc_sell']\n",
    "    data['log_ewav_buy/sell'] = np.log(data['ewav_buy/sell'])\n",
    "    data['ewav_sell/buy'] = data['ewav_canc_sell']/data['ewav_canc_buy']\n",
    "    data['log_ewav_sell/buy'] = np.log(data['ewav_sell/buy'])\n",
    "    data = data[['ordid','time','symbol','mtype','ewav_buy/sell','log_ewav_buy/sell','ewav_sell/buy','log_ewav_sell/buy']]\n",
    "    data.rename(columns={'mtype':'order_type'},inplace=True)\n",
    "    return data[data['order_type']=='EXECUTION']"
   ]
  },
  {
   "cell_type": "code",
   "execution_count": 169,
   "metadata": {
    "collapsed": true
   },
   "outputs": [],
   "source": [
    "def get_syms(df):\n",
    "    gp = df.groupby('symbol').size()\n",
    "    syms = gp[gp>10000].index.values\n",
    "    ret = []\n",
    "    for sym in syms:\n",
    "        tmp = df[df['symbol']==sym]\n",
    "        unique_mtypes = tmp['mtype'].unique()\n",
    "        if ('Filled' in unique_mtypes ) or ('PartialFill' in unique_mtypes):\n",
    "            ret.append(sym)\n",
    "    return ret"
   ]
  },
  {
   "cell_type": "code",
   "execution_count": 146,
   "metadata": {
    "collapsed": true
   },
   "outputs": [],
   "source": [
    "syms = get_syms(df)"
   ]
  },
  {
   "cell_type": "code",
   "execution_count": 185,
   "metadata": {
    "collapsed": false
   },
   "outputs": [],
   "source": [
    "data1 = process_data(df,syms[2])\n",
    "\n",
    "fea1 = calc_feature(data1)"
   ]
  },
  {
   "cell_type": "code",
   "execution_count": 186,
   "metadata": {
    "collapsed": true
   },
   "outputs": [],
   "source": [
    "data2 = process_data(df,syms[4])\n",
    "\n",
    "fea2 = calc_feature(data2)"
   ]
  },
  {
   "cell_type": "code",
   "execution_count": 187,
   "metadata": {
    "collapsed": false
   },
   "outputs": [
    {
     "data": {
      "text/html": [
       "<div>\n",
       "<table border=\"1\" class=\"dataframe\">\n",
       "  <thead>\n",
       "    <tr style=\"text-align: right;\">\n",
       "      <th></th>\n",
       "      <th>ordid</th>\n",
       "      <th>time</th>\n",
       "      <th>symbol</th>\n",
       "      <th>order_type</th>\n",
       "      <th>ewav_buy/sell</th>\n",
       "      <th>log_ewav_buy/sell</th>\n",
       "      <th>ewav_sell/buy</th>\n",
       "      <th>log_ewav_sell/buy</th>\n",
       "    </tr>\n",
       "  </thead>\n",
       "  <tbody>\n",
       "    <tr>\n",
       "      <th>5853</th>\n",
       "      <td>33308580</td>\n",
       "      <td>13:09:23.211184</td>\n",
       "      <td>ESPR_100_2015.06.19_Put</td>\n",
       "      <td>EXECUTION</td>\n",
       "      <td>1.542287e-14</td>\n",
       "      <td>-31.802925</td>\n",
       "      <td>6.483878e+13</td>\n",
       "      <td>31.802925</td>\n",
       "    </tr>\n",
       "  </tbody>\n",
       "</table>\n",
       "</div>"
      ],
      "text/plain": [
       "         ordid             time                   symbol order_type  \\\n",
       "5853  33308580  13:09:23.211184  ESPR_100_2015.06.19_Put  EXECUTION   \n",
       "\n",
       "      ewav_buy/sell  log_ewav_buy/sell  ewav_sell/buy  log_ewav_sell/buy  \n",
       "5853   1.542287e-14         -31.802925   6.483878e+13          31.802925  "
      ]
     },
     "execution_count": 187,
     "metadata": {},
     "output_type": "execute_result"
    }
   ],
   "source": [
    "fea1"
   ]
  },
  {
   "cell_type": "code",
   "execution_count": 188,
   "metadata": {
    "collapsed": false
   },
   "outputs": [
    {
     "data": {
      "text/html": [
       "<div>\n",
       "<table border=\"1\" class=\"dataframe\">\n",
       "  <thead>\n",
       "    <tr style=\"text-align: right;\">\n",
       "      <th></th>\n",
       "      <th>ordid</th>\n",
       "      <th>time</th>\n",
       "      <th>symbol</th>\n",
       "      <th>order_type</th>\n",
       "      <th>ewav_buy/sell</th>\n",
       "      <th>log_ewav_buy/sell</th>\n",
       "      <th>ewav_sell/buy</th>\n",
       "      <th>log_ewav_sell/buy</th>\n",
       "    </tr>\n",
       "  </thead>\n",
       "  <tbody>\n",
       "    <tr>\n",
       "      <th>88</th>\n",
       "      <td>32053839</td>\n",
       "      <td>10:53:50.082135</td>\n",
       "      <td>GILD_110_2015.06.19_Call</td>\n",
       "      <td>EXECUTION</td>\n",
       "      <td>2.191690e+17</td>\n",
       "      <td>39.928619</td>\n",
       "      <td>4.562690e-18</td>\n",
       "      <td>-39.928619</td>\n",
       "    </tr>\n",
       "    <tr>\n",
       "      <th>725</th>\n",
       "      <td>32471246</td>\n",
       "      <td>11:37:32.975849</td>\n",
       "      <td>GILD_110_2015.06.19_Call</td>\n",
       "      <td>EXECUTION</td>\n",
       "      <td>2.092075e+11</td>\n",
       "      <td>26.066593</td>\n",
       "      <td>4.779942e-12</td>\n",
       "      <td>-26.066593</td>\n",
       "    </tr>\n",
       "  </tbody>\n",
       "</table>\n",
       "</div>"
      ],
      "text/plain": [
       "        ordid             time                    symbol order_type  \\\n",
       "88   32053839  10:53:50.082135  GILD_110_2015.06.19_Call  EXECUTION   \n",
       "725  32471246  11:37:32.975849  GILD_110_2015.06.19_Call  EXECUTION   \n",
       "\n",
       "     ewav_buy/sell  log_ewav_buy/sell  ewav_sell/buy  log_ewav_sell/buy  \n",
       "88    2.191690e+17          39.928619   4.562690e-18         -39.928619  \n",
       "725   2.092075e+11          26.066593   4.779942e-12         -26.066593  "
      ]
     },
     "execution_count": 188,
     "metadata": {},
     "output_type": "execute_result"
    }
   ],
   "source": [
    "fea2"
   ]
  },
  {
   "cell_type": "code",
   "execution_count": 190,
   "metadata": {
    "collapsed": false
   },
   "outputs": [
    {
     "data": {
      "text/html": [
       "<div>\n",
       "<table border=\"1\" class=\"dataframe\">\n",
       "  <thead>\n",
       "    <tr style=\"text-align: right;\">\n",
       "      <th></th>\n",
       "      <th>ordid</th>\n",
       "      <th>time</th>\n",
       "      <th>symbol</th>\n",
       "      <th>order_type</th>\n",
       "      <th>ewav_buy/sell</th>\n",
       "      <th>log_ewav_buy/sell</th>\n",
       "      <th>ewav_sell/buy</th>\n",
       "      <th>log_ewav_sell/buy</th>\n",
       "    </tr>\n",
       "  </thead>\n",
       "  <tbody>\n",
       "    <tr>\n",
       "      <th>5853</th>\n",
       "      <td>33308580</td>\n",
       "      <td>13:09:23.211184</td>\n",
       "      <td>ESPR_100_2015.06.19_Put</td>\n",
       "      <td>EXECUTION</td>\n",
       "      <td>1.542287e-14</td>\n",
       "      <td>-31.802925</td>\n",
       "      <td>6.483878e+13</td>\n",
       "      <td>31.802925</td>\n",
       "    </tr>\n",
       "    <tr>\n",
       "      <th>88</th>\n",
       "      <td>32053839</td>\n",
       "      <td>10:53:50.082135</td>\n",
       "      <td>GILD_110_2015.06.19_Call</td>\n",
       "      <td>EXECUTION</td>\n",
       "      <td>2.191690e+17</td>\n",
       "      <td>39.928619</td>\n",
       "      <td>4.562690e-18</td>\n",
       "      <td>-39.928619</td>\n",
       "    </tr>\n",
       "    <tr>\n",
       "      <th>725</th>\n",
       "      <td>32471246</td>\n",
       "      <td>11:37:32.975849</td>\n",
       "      <td>GILD_110_2015.06.19_Call</td>\n",
       "      <td>EXECUTION</td>\n",
       "      <td>2.092075e+11</td>\n",
       "      <td>26.066593</td>\n",
       "      <td>4.779942e-12</td>\n",
       "      <td>-26.066593</td>\n",
       "    </tr>\n",
       "  </tbody>\n",
       "</table>\n",
       "</div>"
      ],
      "text/plain": [
       "         ordid             time                    symbol order_type  \\\n",
       "5853  33308580  13:09:23.211184   ESPR_100_2015.06.19_Put  EXECUTION   \n",
       "88    32053839  10:53:50.082135  GILD_110_2015.06.19_Call  EXECUTION   \n",
       "725   32471246  11:37:32.975849  GILD_110_2015.06.19_Call  EXECUTION   \n",
       "\n",
       "      ewav_buy/sell  log_ewav_buy/sell  ewav_sell/buy  log_ewav_sell/buy  \n",
       "5853   1.542287e-14         -31.802925   6.483878e+13          31.802925  \n",
       "88     2.191690e+17          39.928619   4.562690e-18         -39.928619  \n",
       "725    2.092075e+11          26.066593   4.779942e-12         -26.066593  "
      ]
     },
     "execution_count": 190,
     "metadata": {},
     "output_type": "execute_result"
    }
   ],
   "source": [
    "fea1.append(fea2)"
   ]
  },
  {
   "cell_type": "code",
   "execution_count": null,
   "metadata": {
    "collapsed": true
   },
   "outputs": [],
   "source": []
  }
 ],
 "metadata": {
  "kernelspec": {
   "display_name": "Python 2",
   "language": "python",
   "name": "python2"
  },
  "language_info": {
   "codemirror_mode": {
    "name": "ipython",
    "version": 2
   },
   "file_extension": ".py",
   "mimetype": "text/x-python",
   "name": "python",
   "nbconvert_exporter": "python",
   "pygments_lexer": "ipython2",
   "version": "2.7.11"
  }
 },
 "nbformat": 4,
 "nbformat_minor": 0
}
